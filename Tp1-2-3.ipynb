{
 "cells": [
  {
   "cell_type": "code",
   "execution_count": 2,
   "metadata": {},
   "outputs": [],
   "source": [
    "import porter \n",
    "from collections import Counter\n",
    "import math"
   ]
  },
  {
   "cell_type": "markdown",
   "metadata": {},
   "source": [
    "### Exercice 1 – Indexation d’un petit jeu de données\n"
   ]
  },
  {
   "cell_type": "markdown",
   "metadata": {},
   "source": [
    "On considère les documents pr´esent´es lors du TD1 :\n",
    "\n",
    "— Doc 1 : the new home has been saled on top forecasts\n",
    "\n",
    "— Doc 2 : the home sales rise in july\n",
    "\n",
    "— Doc 3 : there is an increase in home sales in july\n",
    "\n",
    "— Doc 4 : july encounter a new home sales rise\n",
    "\n",
    "Ainsi qu’une liste de mots vides : the, a, an, on, behind, under, there, in, on.\n",
    "\n",
    "Q 1.1 Ecrire le code qui a partir de la chaˆıne de caractere du document 1 : \n",
    "1) s´epare les mots, les transforme en minuscule, compte le nombre d’occurrences par mot dans le texte, \n",
    "2) supprime les mots vides et \n",
    "3) stocke le resultat sous la forme :\n",
    "\n",
    "1 {’new ’ : 1 , ’home ’ : 1 , ’ha’ : 1 , ’been ’ : 1 , ’sale ’ : 1 , ’top ’ : 1 , ’forecast ’ : 1}\n",
    "\n",
    "Remarque : pour la normalisation des termes, on s’aidera du fichier porter.py. Pour compter le nombre d’occurrences d’un terme, on utilisera la librairie Counter de collection.\n"
   ]
  },
  {
   "cell_type": "code",
   "execution_count": 3,
   "metadata": {},
   "outputs": [
    {
     "data": {
      "text/plain": [
       "Counter({'new': 1, 'home': 1, 'ha': 1, 'sale': 1, 'top': 1, 'forecast': 1})"
      ]
     },
     "execution_count": 3,
     "metadata": {},
     "output_type": "execute_result"
    }
   ],
   "source": [
    "Corpus = [ \"the new home has been saled on top forecasts\",\n",
    "              \"the home sales rise in july\",\n",
    "              \"there is an increase in home sales in july\",\n",
    "              \"july encounter a new home sales rise\"]\n",
    "\n",
    "def preprocessing(doc) : \n",
    "    words = doc.split()\n",
    "    words = [porter.stem(word) for word in words]\n",
    "    words = [word.lower() for word in words]\n",
    "    words = [word for word in words if word not in [\"the\",\"a\",\"an\",\"on\",\"in\",\"has\",\"been\",\"there\",\"is\",\"a\",\"an\"]]\n",
    "    \n",
    "    return Counter(words)\n",
    "\n",
    "# exemple\n",
    "preprocessing(Corpus[0])"
   ]
  },
  {
   "cell_type": "code",
   "execution_count": 4,
   "metadata": {},
   "outputs": [
    {
     "name": "stdout",
     "output_type": "stream",
     "text": [
      "{0: Counter({'new': 1, 'home': 1, 'ha': 1, 'sale': 1, 'top': 1, 'forecast': 1}), 1: Counter({'home': 1, 'sale': 1, 'rise': 1, 'juli': 1}), 2: Counter({'increas': 1, 'home': 1, 'sale': 1, 'juli': 1}), 3: Counter({'juli': 1, 'encount': 1, 'new': 1, 'home': 1, 'sale': 1, 'rise': 1})}\n",
      "{'new': {0: 1, 3: 1}, 'home': {0: 1, 1: 1, 2: 1, 3: 1}, 'ha': {0: 1}, 'sale': {0: 1, 1: 1, 2: 1, 3: 1}, 'top': {0: 1}, 'forecast': {0: 1}, 'rise': {1: 1, 3: 1}, 'juli': {1: 1, 2: 1, 3: 1}, 'increas': {2: 1}, 'encount': {3: 1}}\n"
     ]
    }
   ],
   "source": [
    "# indexation\n",
    "\n",
    "# index \n",
    "def create_index(doc) : \n",
    "    index = {}\n",
    "    for i,doc in enumerate(Corpus) : \n",
    "        index[i] = preprocessing(doc)\n",
    "    return index\n",
    "\n",
    "# inverted index\n",
    "def create_inverted_index(index) : \n",
    "    inverted_index = {}\n",
    "    for i,doc in index.items() : \n",
    "        for word in doc : \n",
    "            if word not in inverted_index : \n",
    "                inverted_index[word] = {}\n",
    "            if inverted_index[word].get(i) is None:\n",
    "                inverted_index[word][i] = 1\n",
    "            else :\n",
    "                inverted_index[word][i] += 1\n",
    "    \n",
    "    return inverted_index\n",
    "        \n",
    "# affichage index et inverted index\n",
    "print(create_index(Corpus))\n",
    "print(create_inverted_index(create_index(Corpus)))"
   ]
  },
  {
   "cell_type": "code",
   "execution_count": 5,
   "metadata": {},
   "outputs": [
    {
     "data": {
      "text/plain": [
       "{0: {'new': 0.11552453009332421,\n",
       "  'home': 0.0,\n",
       "  'ha': 0.23104906018664842,\n",
       "  'sale': 0.0,\n",
       "  'top': 0.23104906018664842,\n",
       "  'forecast': 0.23104906018664842},\n",
       " 1: {'home': 0.0,\n",
       "  'sale': 0.0,\n",
       "  'rise': 0.17328679513998632,\n",
       "  'juli': 0.07192051811294521},\n",
       " 2: {'increas': 0.34657359027997264,\n",
       "  'home': 0.0,\n",
       "  'sale': 0.0,\n",
       "  'juli': 0.07192051811294521},\n",
       " 3: {'juli': 0.04794701207529681,\n",
       "  'encount': 0.23104906018664842,\n",
       "  'new': 0.11552453009332421,\n",
       "  'home': 0.0,\n",
       "  'sale': 0.0,\n",
       "  'rise': 0.11552453009332421}}"
      ]
     },
     "execution_count": 5,
     "metadata": {},
     "output_type": "execute_result"
    }
   ],
   "source": [
    "def create_indexTfIdf(corpus, index, inverted_index) : \n",
    "    N = len(corpus)\n",
    "    indexTfIdf = {}\n",
    "    for i,doc in index.items() : \n",
    "        indexTfIdf[i] = {}\n",
    "        for word in doc : \n",
    "            indexTfIdf[i][word] = (doc[word]/len(doc)) * ( math.log(N/len(inverted_index[word])))\n",
    "    return indexTfIdf\n",
    "\n",
    "# exemple\n",
    "create_indexTfIdf(Corpus, create_index(Corpus), create_inverted_index(create_index(Corpus)))"
   ]
  },
  {
   "cell_type": "markdown",
   "metadata": {},
   "source": [
    "### Exercice 2 - Modèles de RI"
   ]
  },
  {
   "cell_type": "markdown",
   "metadata": {},
   "source": [
    "On considère la collection de documents et la liste des stopwords de l’exercice precedent. L’objectif dans cet exercice est d’estimer le score des documents pour la requete ”home sales top”.\n",
    "\n",
    "Q 2.1 On pensera a l’optimisation du calcul du score. Quels index faut-il interroger pour avoir un calcul du score\n",
    "pertinent ?"
   ]
  },
  {
   "cell_type": "markdown",
   "metadata": {},
   "source": [
    "<tt> **Il faudrait interroger l'indexe inversé pour avoir un calcul du score pertinent.** <tt>"
   ]
  },
  {
   "cell_type": "markdown",
   "metadata": {},
   "source": [
    "Q 2.2 Ecrire le code qui permet de calculer le score des documents a partir du modele booleen.\n",
    "\n",
    "• Modèle pionnier\n",
    "\n",
    "• Basé sur la théorie des ensembles\n",
    "\n",
    "• Représentation logique des documents L(d) et des requêtes L(q) en\n",
    "\n",
    "utilisant les opérateurs logiques : OU (∨), ET (∧) et NON (¬).\n",
    "\n",
    "• Exemple :\n",
    "\n",
    "\n",
    "– d1(t1,t3,t5) ; d2(t1,t3,t5) ; d3(t1,t2,t3,t4)\n",
    "\n",
    "• Score de similarité :\n",
    "\n",
    "RSV(q, d) = \n",
    "1 si L(q) ⊂ L(d)\n",
    "0 sinon\n"
   ]
  },
  {
   "cell_type": "code",
   "execution_count": 6,
   "metadata": {},
   "outputs": [],
   "source": [
    "index = create_index(Corpus)\n",
    "inverted_index = create_inverted_index(create_index(Corpus))\n",
    "indexTfIdf = create_indexTfIdf(Corpus, index, inverted_index)"
   ]
  },
  {
   "cell_type": "code",
   "execution_count": 7,
   "metadata": {},
   "outputs": [
    {
     "data": {
      "text/plain": [
       "{1, 3}"
      ]
     },
     "execution_count": 7,
     "metadata": {},
     "output_type": "execute_result"
    }
   ],
   "source": [
    "\n",
    "def bool_doc_scores(q, inverted_index) : \n",
    "    docs = set ()\n",
    "    for word in q : \n",
    "        if word in inverted_index.keys() and not docs: \n",
    "            docs.update(inverted_index[word].keys())\n",
    "        elif word in inverted_index.keys() :\n",
    "            docs = docs.intersection(inverted_index[word].keys())\n",
    "        else :\n",
    "            return \"no documents\"\n",
    "    return docs\n",
    "            \n",
    "    \n",
    "# exemple\n",
    "q = \"home sales rise july\"\n",
    "q = preprocessing(q) \n",
    "bool_doc_scores(q, inverted_index)"
   ]
  },
  {
   "cell_type": "markdown",
   "metadata": {},
   "source": [
    "Q 2.3 Ecrire le code qui permet de calculer le score des documents a partir du modele vectoriel (produit scalaire)\n",
    "dans le cas d’une pond´eration tf."
   ]
  },
  {
   "cell_type": "code",
   "execution_count": 8,
   "metadata": {},
   "outputs": [
    {
     "data": {
      "text/plain": [
       "{0: 0.23104906018664842, 1: 0.0, 2: 0.0, 3: 0.0}"
      ]
     },
     "execution_count": 8,
     "metadata": {},
     "output_type": "execute_result"
    }
   ],
   "source": [
    "def vect_doc_scores(q, indexTfIdf, index, inverted_index) : \n",
    "    scores = {}\n",
    "    docs = set()\n",
    "    for word in q : \n",
    "        if word not in inverted_index.keys() : \n",
    "            continue\n",
    "        docs.update(inverted_index[word].keys())\n",
    "\n",
    "    for doc in docs :\n",
    "        scores[doc] = 0\n",
    "        for word in q : \n",
    "            if word in index[doc].keys() : \n",
    "                scores[doc] += indexTfIdf[doc][word]\n",
    "    return scores\n",
    "    \n",
    "# exemple\n",
    "q = ['home','sale', 'top']\n",
    "\n",
    "vect_doc_scores(q, indexTfIdf, index, inverted_index)"
   ]
  },
  {
   "cell_type": "markdown",
   "metadata": {},
   "source": [
    "Q 2.4 Ecrire le code qui permet de calculer le score des documents `a partir du modele de langue Jelineck-Mercer.\n",
    "\n",
    "$$ score(Q,D) = \\prod_{i=1}^{n} [(1 - \\lambda) P(t_i|D) + \\lambda P(t_i|C)] $$\n",
    "$$ P(t_i|D) = \\frac{tf_{t_i,D}}{|D|} $$\n",
    "$$ P(t_i|C) = \\frac{tf_{t_i,C}}{|C|} $$\n",
    "$ \\lambda $ est un paramètre de lissage, $ P(t_i|D) $ est la probabilité d’apparition du terme $ t_i $ dans le document D, $ P(t_i|C) $ est la probabilité d’apparition du terme $ t_i $ dans la collection C."
   ]
  },
  {
   "cell_type": "code",
   "execution_count": 9,
   "metadata": {},
   "outputs": [
    {
     "data": {
      "text/plain": [
       "{0: 0.03361111111111112,\n",
       " 1: 0.001771875,\n",
       " 2: 0.010125000000000002,\n",
       " 3: 0.000709567901234568}"
      ]
     },
     "execution_count": 9,
     "metadata": {},
     "output_type": "execute_result"
    }
   ],
   "source": [
    "def jelineck_mercer_score(query, index, inverted_index, corpus, lambda_param=0.5) : \n",
    "    score = {}\n",
    "    docs = set()\n",
    "    taille_corpus = sum(len(index[i]) for i, _ in enumerate(corpus))\n",
    "\n",
    "    for word in query : \n",
    "        if word not in inverted_index.keys() : \n",
    "            continue\n",
    "        docs.update(inverted_index[word].keys())\n",
    "\n",
    "    for doc in docs :\n",
    "        score[doc] = 1.0\n",
    "        taille_doc = len(index[doc])\n",
    "        \n",
    "        for word in query : \n",
    "            if word not in index[doc].keys() :\n",
    "                continue\n",
    "\n",
    "            p_w_d = index[doc].get(word) / taille_doc\n",
    "            p_w_c = len(inverted_index[word]) / taille_corpus\n",
    "\n",
    "            score[doc] *= lambda_param * p_w_d + (1 - lambda_param) * p_w_c\n",
    "    return score\n",
    "\n",
    "# exemple\n",
    "q = \"home sales rise july\"\n",
    "q = preprocessing(q) \n",
    "jelineck_mercer_score(q, index, inverted_index, Corpus)"
   ]
  },
  {
   "cell_type": "markdown",
   "metadata": {},
   "source": [
    "### Exercice 3 – Evaluation en RI\n",
    "L’objectif dans cet exercice est de mesurer la qualité de l’ordonnancement. Pour cela, on définit les jugements de\n",
    "pertinence suivant :\n",
    "\n",
    "— Requete 1 ”top sales” - Documents pertinents : 1 <br>\n",
    "— Requete 2 ”sales increase july” - Documents pertinents : 2 et 3 (avec 2 plus pertinent que 3) <br>\n",
    "— Requete 3 ”new home”\n",
    "\n",
    "Q 3.1 Calculer les mesures de precision, rappel et F-mesure au rang 2 (P@2, R@2 et F@2) pour chaque requete et ensuite leur moyenne sur l’ensemble des reqetes.\n",
    "* Précision au rang 2 (P@2) :\n",
    "$$ P@2 = \\frac{\\text{Nombre de documents pertinents retrouvés dans les 2 premiers rangs}}{\\text{2}} $$\n",
    "* Rappel au rang 2 (R@2) :\n",
    "$$ R@2 = \\frac{\\text{Nombre de documents pertinents retrouvés dans les 2 premiers rangs}}{\\text{Nombre total de documents pertinents}} $$\n",
    "* F-mesure au rang 2 (F@2) :\n",
    "$$ F@2 = \\frac{2 \\times P@2 \\times R@2}{P@2 + R@2} $$\n",
    "\n"
   ]
  },
  {
   "cell_type": "code",
   "execution_count": 10,
   "metadata": {},
   "outputs": [
    {
     "name": "stdout",
     "output_type": "stream",
     "text": [
      "precision :  0.0 rappel :  0.0\n"
     ]
    }
   ],
   "source": [
    "def metric(q, doc_pertinent, rang) :\n",
    "    scores =  jelineck_mercer_score(preprocessing(q), index, inverted_index, Corpus)\n",
    "    ranking = sorted(scores, key=scores.get, reverse=True)\n",
    "    TP = 0\n",
    "    \n",
    "    rang = min(rang, len(ranking))\n",
    "    for i in range(rang) : \n",
    "        if ranking[i] in doc_pertinent :\n",
    "            TP += 1\n",
    "\n",
    "    precision = TP / rang\n",
    "    rappel = TP / len(doc_pertinent)\n",
    "\n",
    "    return precision, rappel\n",
    "\n",
    "precision, rappel = metric(\"top sales\", doc_pertinent=[0], rang=2)\n",
    "print(\"precision : \", precision, \"rappel : \", rappel)"
   ]
  },
  {
   "cell_type": "markdown",
   "metadata": {},
   "source": [
    "Q 3.2 Calculer la mesure de NDCG pour toutes les requetes\n",
    "\n",
    "$$\n",
    "nDCG_{k} = \\frac{DCG_{k}}{IDCG_{k}}\n",
    "$$\n",
    "\n",
    "$$\n",
    "DCG_{k} = rel_1 + \\sum_{i=2}^{k} \\frac{rel_i}{\\log_2(i)}\n",
    "$$\n",
    "\n",
    "\n"
   ]
  },
  {
   "cell_type": "code",
   "execution_count": null,
   "metadata": {},
   "outputs": [],
   "source": [
    "def IDCG(q, doc_pertinent, rang) : \n",
    "    scores =  jelineck_mercer_score(preprocessing(q), index, inverted_index, Corpus)\n",
    "    ranking = sorted(scores, key=scores.get, reverse=True)\n",
    "    IDCG = 0\n",
    "    rang = min(rang, len(ranking))\n",
    "    for i in range(rang) : \n",
    "        if ranking[i] in doc_pertinent :\n",
    "            IDCG += 1 / math.log2(i+2)\n",
    "    return IDCG"
   ]
  },
  {
   "cell_type": "code",
   "execution_count": 11,
   "metadata": {},
   "outputs": [
    {
     "data": {
      "text/plain": [
       "0.5809402158035948"
      ]
     },
     "execution_count": 11,
     "metadata": {},
     "output_type": "execute_result"
    }
   ],
   "source": [
    "\n",
    "# exemple\n",
    "IDCG = 2 + 1/math.log(2)\n",
    "query1 = \"top sales\"\n",
    "query2 = \"query increase july\"\n",
    "query1 = \"new home\"\n",
    "nDCG(query2, doc_pertinent={1:2 , 2:1}, rang=2, IDCG=IDCG)"
   ]
  }
 ],
 "metadata": {
  "kernelspec": {
   "display_name": "base",
   "language": "python",
   "name": "python3"
  },
  "language_info": {
   "codemirror_mode": {
    "name": "ipython",
    "version": 3
   },
   "file_extension": ".py",
   "mimetype": "text/x-python",
   "name": "python",
   "nbconvert_exporter": "python",
   "pygments_lexer": "ipython3",
   "version": "3.11.4"
  }
 },
 "nbformat": 4,
 "nbformat_minor": 2
}
